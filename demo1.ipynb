{
 "cells": [
  {
   "cell_type": "code",
   "execution_count": 1,
   "id": "499f2971",
   "metadata": {},
   "outputs": [],
   "source": [
    "import torch\n",
    "import pandas as pd\n",
    "import re\n",
    "import random\n",
    "from torch_geometric.data import Data\n",
    "from transformers import RobertaModel, AutoTokenizer\n",
    "from torch_geometric.nn import GCNConv, global_mean_pool\n",
    "\n",
    "device = torch.device(\"cuda\" if torch.cuda.is_available() else \"cpu\")\n",
    "tokenizer = AutoTokenizer.from_pretrained(\"roberta-base\")  "
   ]
  },
  {
   "cell_type": "code",
   "execution_count": 2,
   "id": "8771bc3a",
   "metadata": {},
   "outputs": [],
   "source": [
    "class SaGP(torch.nn.Module):\n",
    "    def __init__(self, hidden_dim=768):\n",
    "        super().__init__()\n",
    "        self.encoder = RobertaModel.from_pretrained(\"roberta-base\")\n",
    "        self.gcn1 = GCNConv(hidden_dim, hidden_dim)\n",
    "        self.gcn2 = GCNConv(hidden_dim, hidden_dim)\n",
    "        self.classifier = torch.nn.Linear(hidden_dim, 2)\n",
    "        self.rationale_head = torch.nn.Linear(hidden_dim, 1)\n",
    "\n",
    "    def forward(self, input_ids, attention_mask, edge_index, batch_index):\n",
    "        with torch.no_grad():\n",
    "            out = self.encoder(input_ids=input_ids, attention_mask=attention_mask)\n",
    "        x = out.last_hidden_state[:, 0, :]\n",
    "        x = torch.nn.functional.relu(self.gcn1(x, edge_index))\n",
    "        x = torch.nn.functional.relu(self.gcn2(x, edge_index))\n",
    "        pooled = global_mean_pool(x, batch_index)\n",
    "        logits = self.classifier(pooled)\n",
    "        rationale_scores = torch.sigmoid(self.rationale_head(x)).squeeze(-1)\n",
    "        return logits, rationale_scores\n"
   ]
  },
  {
   "cell_type": "code",
   "execution_count": 3,
   "id": "2f427ade",
   "metadata": {},
   "outputs": [
    {
     "name": "stderr",
     "output_type": "stream",
     "text": [
      "Some weights of RobertaModel were not initialized from the model checkpoint at roberta-base and are newly initialized: ['pooler.dense.bias', 'pooler.dense.weight']\n",
      "You should probably TRAIN this model on a down-stream task to be able to use it for predictions and inference.\n"
     ]
    },
    {
     "data": {
      "text/plain": [
       "SaGP(\n",
       "  (encoder): RobertaModel(\n",
       "    (embeddings): RobertaEmbeddings(\n",
       "      (word_embeddings): Embedding(50265, 768, padding_idx=1)\n",
       "      (position_embeddings): Embedding(514, 768, padding_idx=1)\n",
       "      (token_type_embeddings): Embedding(1, 768)\n",
       "      (LayerNorm): LayerNorm((768,), eps=1e-05, elementwise_affine=True)\n",
       "      (dropout): Dropout(p=0.1, inplace=False)\n",
       "    )\n",
       "    (encoder): RobertaEncoder(\n",
       "      (layer): ModuleList(\n",
       "        (0-11): 12 x RobertaLayer(\n",
       "          (attention): RobertaAttention(\n",
       "            (self): RobertaSdpaSelfAttention(\n",
       "              (query): Linear(in_features=768, out_features=768, bias=True)\n",
       "              (key): Linear(in_features=768, out_features=768, bias=True)\n",
       "              (value): Linear(in_features=768, out_features=768, bias=True)\n",
       "              (dropout): Dropout(p=0.1, inplace=False)\n",
       "            )\n",
       "            (output): RobertaSelfOutput(\n",
       "              (dense): Linear(in_features=768, out_features=768, bias=True)\n",
       "              (LayerNorm): LayerNorm((768,), eps=1e-05, elementwise_affine=True)\n",
       "              (dropout): Dropout(p=0.1, inplace=False)\n",
       "            )\n",
       "          )\n",
       "          (intermediate): RobertaIntermediate(\n",
       "            (dense): Linear(in_features=768, out_features=3072, bias=True)\n",
       "            (intermediate_act_fn): GELUActivation()\n",
       "          )\n",
       "          (output): RobertaOutput(\n",
       "            (dense): Linear(in_features=3072, out_features=768, bias=True)\n",
       "            (LayerNorm): LayerNorm((768,), eps=1e-05, elementwise_affine=True)\n",
       "            (dropout): Dropout(p=0.1, inplace=False)\n",
       "          )\n",
       "        )\n",
       "      )\n",
       "    )\n",
       "    (pooler): RobertaPooler(\n",
       "      (dense): Linear(in_features=768, out_features=768, bias=True)\n",
       "      (activation): Tanh()\n",
       "    )\n",
       "  )\n",
       "  (gcn1): GCNConv(768, 768)\n",
       "  (gcn2): GCNConv(768, 768)\n",
       "  (classifier): Linear(in_features=768, out_features=2, bias=True)\n",
       "  (rationale_head): Linear(in_features=768, out_features=1, bias=True)\n",
       ")"
      ]
     },
     "execution_count": 3,
     "metadata": {},
     "output_type": "execute_result"
    }
   ],
   "source": [
    "model = SaGP().to(device)\n",
    "model.load_state_dict(torch.load(\"./model/sagp_model.pt\", map_location=device))\n",
    "model.eval()\n"
   ]
  },
  {
   "cell_type": "code",
   "execution_count": 4,
   "id": "7eb0cace",
   "metadata": {},
   "outputs": [],
   "source": [
    "def sentence_tokenize(text):\n",
    "    return [s.strip() for s in re.split(r'(?<=[.!?])\\s+', str(text).strip()) if s]\n",
    "\n",
    "def encode_graph_sample(sample, max_len=128):\n",
    "    inputs = [sample['claim'] + \" [SEP] \" + sent for sent in sample['evidences']]\n",
    "    encoding = tokenizer(inputs, padding='max_length', truncation=True, max_length=max_len, return_tensors='pt')\n",
    "    num_nodes = len(inputs)\n",
    "    edge_index = torch.combinations(torch.arange(num_nodes), r=2).T\n",
    "    edge_index = torch.cat([edge_index, edge_index.flip(0)], dim=1).long()\n",
    "    return Data(\n",
    "        input_ids=encoding['input_ids'],\n",
    "        attention_mask=encoding['attention_mask'],\n",
    "        edge_index=edge_index,\n",
    "        y=torch.tensor(sample['label']),\n",
    "        rationale=torch.tensor(sample['rationale_indices']),\n",
    "        num_nodes=num_nodes\n",
    "    )\n"
   ]
  },
  {
   "cell_type": "code",
   "execution_count": 5,
   "id": "1f08521e",
   "metadata": {},
   "outputs": [],
   "source": [
    "def load_and_process_csv(path):\n",
    "    df = pd.read_csv(path)\n",
    "    data = []\n",
    "    for _, row in df.iterrows():\n",
    "        sentences = sentence_tokenize(row[\"Context\"])\n",
    "        evidence = str(row[\"Evidence\"]).strip()\n",
    "        rationale_indices = [\n",
    "            i for i, s in enumerate(sentences)\n",
    "            if evidence in s or s in evidence\n",
    "        ]\n",
    "        data.append({\n",
    "            \"claim\": row[\"Statement\"],\n",
    "            \"evidences\": sentences,\n",
    "            \"label\": int(row[\"labels\"]),\n",
    "            \"evidence_text\": evidence,\n",
    "            \"rationale_indices\": rationale_indices\n",
    "        })\n",
    "    return data\n",
    "\n",
    "test_data = load_and_process_csv(\"./data/test_clean.csv\")\n"
   ]
  },
  {
   "cell_type": "code",
   "execution_count": 197,
   "id": "d12cd882",
   "metadata": {},
   "outputs": [],
   "source": [
    "def demo_single_sample(model, dataset, threshold=0.5):\n",
    "    model.eval()\n",
    "    sample = random.choice(dataset)\n",
    "    claim = sample[\"claim\"]\n",
    "    sentences = sample[\"evidences\"]\n",
    "    label = sample[\"label\"]\n",
    "    rationale_gt = sample[\"rationale_indices\"]\n",
    "    evidence_text = sample[\"evidence_text\"]\n",
    "\n",
    "    encoded = encode_graph_sample(sample)\n",
    "    input_ids = encoded.input_ids.to(device)\n",
    "    attn_mask = encoded.attention_mask.to(device)\n",
    "    edge_index = encoded.edge_index.to(device)\n",
    "    batch_index = torch.zeros(input_ids.size(0), dtype=torch.long).to(device)\n",
    "\n",
    "    with torch.no_grad():\n",
    "        logits, rationale_scores = model(input_ids, attn_mask, edge_index, batch_index)\n",
    "\n",
    "    pred = torch.argmax(logits).item()\n",
    "    rationale_pred = [i for i, s in enumerate(rationale_scores.cpu()) if s > threshold]\n",
    "    # if not rationale_pred:\n",
    "    #     rationale_pred = [torch.argmax(rationale_scores).item()]\n",
    "    #     print(f\"\\n⚠️ Không có câu nào vượt threshold. Chọn Top-1 rationale thay thế.\")\n",
    "\n",
    "\n",
    "    if not rationale_pred:\n",
    "        top2_indices = torch.topk(rationale_scores, k=2).indices.tolist()\n",
    "        rationale_pred = top2_indices\n",
    "        print(f\"\\n⚠️ Không có câu nào vượt threshold. Chọn Top-2 rationale thay thế:\")\n",
    "\n",
    "\n",
    "\n",
    "\n",
    "    print(\"📝 Claim:\")\n",
    "    print(claim)\n",
    "\n",
    "    print(\"\\n📜 Context Sentences:\")\n",
    "    for i, sent in enumerate(sentences):\n",
    "        mark = \"\"\n",
    "        if i in rationale_pred:\n",
    "            mark += \"🟩 Pred\"\n",
    "            print(f\"  - ({i}) {sent} {mark}\")\n",
    "        # if i in rationale_gt:\n",
    "        #     mark += \"🟦 GT\"\n",
    "        #     # print(f\"  - ({i}) {sent} {mark}\")\n",
    "        # print(f\"  - ({i}) {sent} {mark}\")\n",
    "\n",
    "    print(\"\\n📚 Ground-truth Evidence Text:\")\n",
    "    print(evidence_text)\n",
    "\n",
    "    print(\"\\n🎯 True Label:\", \"SUPPORTED\" if label == 0 else \"REFUTED\")\n",
    "    print(\"🔮 Predicted Label:\", \"SUPPORTED\" if pred == 0 else \"REFUTED\")\n"
   ]
  },
  {
   "cell_type": "code",
   "execution_count": 228,
   "id": "30ff2237",
   "metadata": {},
   "outputs": [
    {
     "name": "stdout",
     "output_type": "stream",
     "text": [
      "\n",
      "⚠️ Không có câu nào vượt threshold. Chọn Top-2 rationale thay thế:\n",
      "📝 Claim:\n",
      "Thí sinh theo quy định phải mang theo và xuất trình giấy tờ tùy thân gồm một trong các loại giấy tờ sau: CMND, CCCD, hộ chiếu.\n",
      "\n",
      "📜 Context Sentences:\n",
      "  - (0) Theo quy định, thí sinh (TS) phải mang theo và xuất trình giấy tờ tùy thân đã sử dụng đăng ký dự thi khi đến địa điểm thi. 🟩 Pred\n",
      "  - (1) Giấy tờ tùy thân gồm một trong các loại giấy tờ sau (bản chính, còn hạn sử dụng): CMND, CCCD, hộ chiếu. 🟩 Pred\n",
      "\n",
      "📚 Ground-truth Evidence Text:\n",
      "Theo quy định, thí sinh phải mang theo và xuất trình giấy tờ tùy thân CMND, CCCD, hộ chiếu Giấy tờ tùy thân gồm một trong các loại giấy tờ sau\n",
      "\n",
      "🎯 True Label: SUPPORTED\n",
      "🔮 Predicted Label: SUPPORTED\n"
     ]
    }
   ],
   "source": [
    "demo_single_sample(model, test_data, threshold=0.7)"
   ]
  }
 ],
 "metadata": {
  "kernelspec": {
   "display_name": "Python 3",
   "language": "python",
   "name": "python3"
  },
  "language_info": {
   "codemirror_mode": {
    "name": "ipython",
    "version": 3
   },
   "file_extension": ".py",
   "mimetype": "text/x-python",
   "name": "python",
   "nbconvert_exporter": "python",
   "pygments_lexer": "ipython3",
   "version": "3.12.8"
  }
 },
 "nbformat": 4,
 "nbformat_minor": 5
}
