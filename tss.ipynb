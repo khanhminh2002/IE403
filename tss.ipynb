{
 "cells": [
  {
   "cell_type": "code",
   "execution_count": null,
   "id": "b8899a6c",
   "metadata": {},
   "outputs": [],
   "source": [
    "import pandas as pd\n",
    "import re\n",
    "from sentence_transformers import SentenceTransformer\n",
    "from sklearn.metrics.pairwise import cosine_similarity\n",
    "\n",
    "# Load dataset\n",
    "train_df = pd.read_csv(\"./data/train_clean.csv\")\n",
    "test_df = pd.read_csv(\"./data/test_clean.csv\")\n",
    "\n",
    "# Chuẩn hóa cột\n",
    "train_df = train_df.rename(columns={\"Statement\": \"claim\", \"Context\": \"context\", \"labels\": \"label\", \"Evidence\": \"evidence\"})\n",
    "test_df = test_df.rename(columns={\"Statement\": \"claim\", \"Context\": \"context\", \"labels\": \"label\", \"Evidence\": \"evidence\"})\n",
    "\n",
    "# Hàm tách câu\n",
    "def sentence_tokenize(text):\n",
    "    return [s.strip() for s in re.split(r'(?<=[.!?])\\s+', str(text).strip()) if s]\n",
    "\n",
    "# Mô hình cho TSS\n",
    "model_st = SentenceTransformer(\"paraphrase-multilingual-MiniLM-L12-v2\")\n",
    "\n",
    "# Hàm chọn top-k câu gần nhất\n",
    "def select_top_k_sentences(claim, context, k=2):\n",
    "    sentences = sentence_tokenize(context)\n",
    "    if not sentences:\n",
    "        return \"\", []\n",
    "    embeddings = model_st.encode([claim] + sentences)\n",
    "    sims = cosine_similarity([embeddings[0]], embeddings[1:])[0]\n",
    "    top_k_indices = sims.argsort()[-k:][::-1]\n",
    "    selected = [sentences[i] for i in top_k_indices]\n",
    "    return \" \".join(selected), top_k_indices.tolist()\n",
    "\n",
    "# Áp dụng chọn rationale cho cả tập train/test\n",
    "def apply_tss(df, k=2):\n",
    "    rationale_texts, rationale_idxs = [], []\n",
    "    for _, row in df.iterrows():\n",
    "        rationale, idxs = select_top_k_sentences(row['claim'], row['context'], k)\n",
    "        rationale_texts.append(rationale)\n",
    "        rationale_idxs.append(idxs)\n",
    "    df[\"tss_rationale\"] = rationale_texts\n",
    "    df[\"tss_rationale_idxs\"] = rationale_idxs\n",
    "    return df\n",
    "\n",
    "# Áp dụng TSS\n",
    "train_df = apply_tss(train_df, k=2)\n",
    "test_df = apply_tss(test_df, k=2)\n"
   ]
  },
  {
   "cell_type": "code",
   "execution_count": null,
   "id": "07d558a7",
   "metadata": {},
   "outputs": [
    {
     "data": {
      "application/vnd.jupyter.widget-view+json": {
       "model_id": "55419cd676a04be2ad50820f0149ec2d",
       "version_major": 2,
       "version_minor": 0
      },
      "text/plain": [
       "Map:   0%|          | 0/3409 [00:00<?, ? examples/s]"
      ]
     },
     "metadata": {},
     "output_type": "display_data"
    },
    {
     "data": {
      "application/vnd.jupyter.widget-view+json": {
       "model_id": "255a6df5022d462c98d67ade1f1b5f46",
       "version_major": 2,
       "version_minor": 0
      },
      "text/plain": [
       "Map:   0%|          | 0/976 [00:00<?, ? examples/s]"
      ]
     },
     "metadata": {},
     "output_type": "display_data"
    },
    {
     "name": "stderr",
     "output_type": "stream",
     "text": [
      "Some weights of RobertaForSequenceClassification were not initialized from the model checkpoint at roberta-base and are newly initialized: ['classifier.dense.bias', 'classifier.dense.weight', 'classifier.out_proj.bias', 'classifier.out_proj.weight']\n",
      "You should probably TRAIN this model on a down-stream task to be able to use it for predictions and inference.\n"
     ]
    },
    {
     "data": {
      "text/html": [
       "\n",
       "    <div>\n",
       "      \n",
       "      <progress value='4270' max='4270' style='width:300px; height:20px; vertical-align: middle;'></progress>\n",
       "      [4270/4270 10:49, Epoch 10/10]\n",
       "    </div>\n",
       "    <table border=\"1\" class=\"dataframe\">\n",
       "  <thead>\n",
       " <tr style=\"text-align: left;\">\n",
       "      <th>Epoch</th>\n",
       "      <th>Training Loss</th>\n",
       "      <th>Validation Loss</th>\n",
       "      <th>Accuracy</th>\n",
       "    </tr>\n",
       "  </thead>\n",
       "  <tbody>\n",
       "    <tr>\n",
       "      <td>1</td>\n",
       "      <td>No log</td>\n",
       "      <td>0.692335</td>\n",
       "      <td>0.520492</td>\n",
       "    </tr>\n",
       "    <tr>\n",
       "      <td>2</td>\n",
       "      <td>0.696700</td>\n",
       "      <td>0.692484</td>\n",
       "      <td>0.520492</td>\n",
       "    </tr>\n",
       "    <tr>\n",
       "      <td>3</td>\n",
       "      <td>0.696500</td>\n",
       "      <td>0.692384</td>\n",
       "      <td>0.520492</td>\n",
       "    </tr>\n",
       "    <tr>\n",
       "      <td>4</td>\n",
       "      <td>0.695200</td>\n",
       "      <td>0.692306</td>\n",
       "      <td>0.520492</td>\n",
       "    </tr>\n",
       "    <tr>\n",
       "      <td>5</td>\n",
       "      <td>0.695800</td>\n",
       "      <td>0.693019</td>\n",
       "      <td>0.520492</td>\n",
       "    </tr>\n",
       "    <tr>\n",
       "      <td>6</td>\n",
       "      <td>0.694300</td>\n",
       "      <td>0.690001</td>\n",
       "      <td>0.545082</td>\n",
       "    </tr>\n",
       "    <tr>\n",
       "      <td>7</td>\n",
       "      <td>0.694300</td>\n",
       "      <td>0.689583</td>\n",
       "      <td>0.523566</td>\n",
       "    </tr>\n",
       "    <tr>\n",
       "      <td>8</td>\n",
       "      <td>0.695700</td>\n",
       "      <td>0.688855</td>\n",
       "      <td>0.544057</td>\n",
       "    </tr>\n",
       "    <tr>\n",
       "      <td>9</td>\n",
       "      <td>0.693300</td>\n",
       "      <td>0.687965</td>\n",
       "      <td>0.548156</td>\n",
       "    </tr>\n",
       "    <tr>\n",
       "      <td>10</td>\n",
       "      <td>0.686400</td>\n",
       "      <td>0.689366</td>\n",
       "      <td>0.543033</td>\n",
       "    </tr>\n",
       "  </tbody>\n",
       "</table><p>"
      ],
      "text/plain": [
       "<IPython.core.display.HTML object>"
      ]
     },
     "metadata": {},
     "output_type": "display_data"
    },
    {
     "data": {
      "text/plain": [
       "TrainOutput(global_step=4270, training_loss=0.6938338518701057, metrics={'train_runtime': 649.6777, 'train_samples_per_second': 52.472, 'train_steps_per_second': 6.572, 'total_flos': 2242363969305600.0, 'train_loss': 0.6938338518701057, 'epoch': 10.0})"
      ]
     },
     "execution_count": 2,
     "metadata": {},
     "output_type": "execute_result"
    }
   ],
   "source": [
    "from datasets import Dataset\n",
    "from transformers import RobertaTokenizer, RobertaForSequenceClassification, Trainer, TrainingArguments\n",
    "import numpy as np\n",
    "\n",
    "tokenizer = RobertaTokenizer.from_pretrained(\"roberta-base\")\n",
    "\n",
    "def encode_batch(example):\n",
    "    return tokenizer(example[\"claim\"] + \" [SEP] \" + example[\"tss_rationale\"],\n",
    "                     padding=\"max_length\", truncation=True, max_length=128)\n",
    "\n",
    "# Chuẩn bị dữ liệu\n",
    "train_hf = Dataset.from_pandas(train_df[[\"claim\", \"tss_rationale\", \"label\"]])\n",
    "test_hf = Dataset.from_pandas(test_df[[\"claim\", \"tss_rationale\", \"label\"]])\n",
    "\n",
    "train_hf = train_hf.map(encode_batch)\n",
    "test_hf = test_hf.map(encode_batch)\n",
    "\n",
    "# Mô hình\n",
    "model = RobertaForSequenceClassification.from_pretrained(\"roberta-base\", num_labels=2)\n",
    "\n",
    "# Tham số huấn luyện\n",
    "training_args = TrainingArguments(\n",
    "    output_dir=\"./results\",\n",
    "    eval_strategy=\"epoch\",\n",
    "    save_strategy=\"epoch\",\n",
    "    per_device_train_batch_size=8,\n",
    "    per_device_eval_batch_size=16,\n",
    "    num_train_epochs=10,\n",
    "    learning_rate=2e-5,\n",
    "    load_best_model_at_end=True,\n",
    "    metric_for_best_model=\"accuracy\"\n",
    ")\n",
    "\n",
    "def compute_metrics(eval_pred):\n",
    "    logits, labels = eval_pred\n",
    "    preds = np.argmax(logits, axis=-1)\n",
    "    return {\"accuracy\": (preds == labels).mean()}\n",
    "\n",
    "trainer = Trainer(\n",
    "    model=model,\n",
    "    args=training_args,\n",
    "    train_dataset=train_hf,\n",
    "    eval_dataset=test_hf,\n",
    "    compute_metrics=compute_metrics\n",
    ")\n",
    "\n",
    "trainer.train()\n"
   ]
  },
  {
   "cell_type": "code",
   "execution_count": 3,
   "id": "a6272907",
   "metadata": {},
   "outputs": [
    {
     "data": {
      "text/html": [],
      "text/plain": [
       "<IPython.core.display.HTML object>"
      ]
     },
     "metadata": {},
     "output_type": "display_data"
    },
    {
     "name": "stdout",
     "output_type": "stream",
     "text": [
      "              precision    recall  f1-score   support\n",
      "\n",
      "   SUPPORTED       0.57      0.53      0.55       508\n",
      "     REFUTED       0.53      0.57      0.55       468\n",
      "\n",
      "    accuracy                           0.55       976\n",
      "   macro avg       0.55      0.55      0.55       976\n",
      "weighted avg       0.55      0.55      0.55       976\n",
      "\n"
     ]
    }
   ],
   "source": [
    "from sklearn.metrics import classification_report\n",
    "\n",
    "predictions = trainer.predict(test_hf)\n",
    "y_true = predictions.label_ids\n",
    "y_pred = np.argmax(predictions.predictions, axis=-1)\n",
    "\n",
    "print(classification_report(y_true, y_pred, target_names=[\"SUPPORTED\", \"REFUTED\"]))\n"
   ]
  },
  {
   "cell_type": "code",
   "execution_count": 4,
   "id": "5cbd00ba",
   "metadata": {},
   "outputs": [
    {
     "name": "stdout",
     "output_type": "stream",
     "text": [
      "Rationale (TSS) Quality:\n",
      "Precision: 0.450\n",
      "Recall:    0.764\n",
      "F1-score:  0.550\n"
     ]
    }
   ],
   "source": [
    "from sklearn.metrics import precision_score, recall_score, f1_score\n",
    "\n",
    "def match_sentence_index(evidence, context):\n",
    "    sents = sentence_tokenize(context)\n",
    "    matches = []\n",
    "    for i, s in enumerate(sents):\n",
    "        if evidence.strip() in s or s in evidence.strip():\n",
    "            matches.append(i)\n",
    "    return matches\n",
    "\n",
    "rationale_prec, rationale_rec, rationale_f1 = [], [], []\n",
    "\n",
    "for i, row in test_df.iterrows():\n",
    "    gold_idxs = match_sentence_index(row[\"evidence\"], row[\"context\"])\n",
    "    pred_idxs = row[\"tss_rationale_idxs\"]\n",
    "    sents = sentence_tokenize(row[\"context\"])\n",
    "\n",
    "    if not sents or not gold_idxs:\n",
    "        continue\n",
    "\n",
    "    y_true = [1 if i in gold_idxs else 0 for i in range(len(sents))]\n",
    "    y_pred = [1 if i in pred_idxs else 0 for i in range(len(sents))]\n",
    "\n",
    "    p = precision_score(y_true, y_pred, zero_division=0)\n",
    "    r = recall_score(y_true, y_pred, zero_division=0)\n",
    "    f = f1_score(y_true, y_pred, zero_division=0)\n",
    "\n",
    "    rationale_prec.append(p)\n",
    "    rationale_rec.append(r)\n",
    "    rationale_f1.append(f)\n",
    "\n",
    "print(f\"Rationale (TSS) Quality:\")\n",
    "print(f\"Precision: {np.mean(rationale_prec):.3f}\")\n",
    "print(f\"Recall:    {np.mean(rationale_rec):.3f}\")\n",
    "print(f\"F1-score:  {np.mean(rationale_f1):.3f}\")\n"
   ]
  }
 ],
 "metadata": {
  "kernelspec": {
   "display_name": "Python 3",
   "language": "python",
   "name": "python3"
  },
  "language_info": {
   "codemirror_mode": {
    "name": "ipython",
    "version": 3
   },
   "file_extension": ".py",
   "mimetype": "text/x-python",
   "name": "python",
   "nbconvert_exporter": "python",
   "pygments_lexer": "ipython3",
   "version": "3.12.8"
  }
 },
 "nbformat": 4,
 "nbformat_minor": 5
}
