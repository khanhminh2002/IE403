{
 "cells": [
  {
   "cell_type": "code",
   "execution_count": 1,
   "id": "e95bd632",
   "metadata": {},
   "outputs": [],
   "source": [
    "import pandas as pd\n",
    "import re\n",
    "from sentence_transformers import SentenceTransformer, util\n",
    "from sklearn.metrics import classification_report\n",
    "\n",
    "# -----------------------------\n",
    "# 1. Tách câu\n",
    "# -----------------------------\n",
    "def sentence_tokenize(text):\n",
    "    return [s.strip() for s in re.split(r'(?<=[.!?])\\s+', str(text)) if s]\n",
    "\n",
    "# -----------------------------\n",
    "# 2. Load dữ liệu\n",
    "# -----------------------------\n",
    "def load_data(path):\n",
    "    df = pd.read_csv(path)\n",
    "    data = []\n",
    "    for _, row in df.iterrows():\n",
    "        claim = row[\"Statement\"]\n",
    "        context_sents = sentence_tokenize(row[\"Context\"])\n",
    "        label = row[\"labels\"]\n",
    "        evidence = row[\"Evidence\"]\n",
    "        data.append({\n",
    "            'claim': claim,\n",
    "            'sentences': context_sents,\n",
    "            'label': label,\n",
    "            'evidence': evidence\n",
    "        })\n",
    "    return data\n",
    "\n",
    "# Load test set\n",
    "test_data = load_data(\"./data/test_clean.csv\")\n",
    "\n",
    "# -----------------------------\n",
    "# 3. Load sentence-BERT\n",
    "# -----------------------------\n",
    "sbert = SentenceTransformer(\"all-MiniLM-L6-v2\")  \n",
    "\n",
    "# -----------------------------\n",
    "# 4. Chọn Top-k rationale\n",
    "# -----------------------------\n",
    "def extract_top_k_rationale(claim, sentences, k=2):\n",
    "    emb_claim = sbert.encode(claim, convert_to_tensor=True)\n",
    "    emb_sents = sbert.encode(sentences, convert_to_tensor=True)\n",
    "    scores = util.cos_sim(emb_claim, emb_sents)[0]\n",
    "    top_indices = scores.topk(k=k).indices.tolist()\n",
    "    return [sentences[i] for i in top_indices]\n"
   ]
  },
  {
   "cell_type": "code",
   "execution_count": 2,
   "id": "2b06b5e5",
   "metadata": {},
   "outputs": [],
   "source": [
    "def predict_label_from_topk(rationale_sents):\n",
    "    neg_words = [\"không\", \"chưa\", \"sai\", \"phủ nhận\", \"bác bỏ\"]\n",
    "    for sent in rationale_sents:\n",
    "        sent_lower = sent.lower()\n",
    "        if any(word in sent_lower for word in neg_words):\n",
    "            return 1  # REFUTED\n",
    "    return 0  # SUPPORTED\n"
   ]
  },
  {
   "cell_type": "code",
   "execution_count": 3,
   "id": "bc105790",
   "metadata": {},
   "outputs": [
    {
     "name": "stdout",
     "output_type": "stream",
     "text": [
      "Claim Classification:\n",
      "              precision    recall  f1-score   support\n",
      "\n",
      "   SUPPORTED       0.53      0.73      0.61       508\n",
      "     REFUTED       0.50      0.29      0.37       468\n",
      "\n",
      "    accuracy                           0.52       976\n",
      "   macro avg       0.52      0.51      0.49       976\n",
      "weighted avg       0.52      0.52      0.50       976\n",
      "\n"
     ]
    }
   ],
   "source": [
    "y_true, y_pred = [], []\n",
    "\n",
    "for sample in test_data:\n",
    "    topk_sents = extract_top_k_rationale(sample[\"claim\"], sample[\"sentences\"], k=2)\n",
    "    pred = predict_label_from_topk(topk_sents)\n",
    "    y_pred.append(pred)\n",
    "    y_true.append(sample[\"label\"])\n",
    "\n",
    "print(\"Claim Classification:\")\n",
    "print(classification_report(y_true, y_pred, target_names=[\"SUPPORTED\", \"REFUTED\"]))\n"
   ]
  },
  {
   "cell_type": "code",
   "execution_count": 4,
   "id": "0ad95f3c",
   "metadata": {},
   "outputs": [],
   "source": [
    "def evaluate_rationale_quality(data, k=2):\n",
    "    matched, total = 0, 0\n",
    "    for sample in data:\n",
    "        top_k_sents = extract_top_k_rationale(sample[\"claim\"], sample[\"sentences\"], k=k)\n",
    "        evidence_text = str(sample[\"evidence\"]).strip()\n",
    "        if not evidence_text:\n",
    "            continue\n",
    "        total += 1\n",
    "        rationale_text = \" \".join(top_k_sents)\n",
    "        if evidence_text in rationale_text or rationale_text in evidence_text:\n",
    "            matched += 1\n",
    "    if total == 0:\n",
    "        print(\"Không có evidence hợp lệ.\")\n",
    "    else:\n",
    "        print(f\"Rationale Overlap (Top-{k}): {matched}/{total} = {matched/total:.2f}\")\n"
   ]
  },
  {
   "cell_type": "code",
   "execution_count": 5,
   "id": "7b5b8129",
   "metadata": {},
   "outputs": [
    {
     "name": "stdout",
     "output_type": "stream",
     "text": [
      "Rationale Overlap (Top-2): 350/976 = 0.36\n"
     ]
    }
   ],
   "source": [
    "evaluate_rationale_quality(test_data)"
   ]
  },
  {
   "cell_type": "code",
   "execution_count": 8,
   "id": "cd5a7243",
   "metadata": {},
   "outputs": [],
   "source": [
    "from sklearn.metrics import precision_score, recall_score, f1_score\n",
    "\n",
    "def evaluate_rationale_precision_recall(data, k=2):\n",
    "    y_true, y_pred = [], []\n",
    "\n",
    "    for sample in data:\n",
    "        top_k_sents = extract_top_k_rationale(sample[\"claim\"], sample[\"sentences\"], k=k)\n",
    "        evidence_text = str(sample[\"evidence\"]).strip()\n",
    "\n",
    "        if not evidence_text:\n",
    "            continue\n",
    "\n",
    "        # Ground truth: 1 if evidence exists, 0 otherwise\n",
    "        y_true.append(1 if evidence_text else 0)\n",
    "\n",
    "        # Prediction: 1 if rationale overlaps with evidence, 0 otherwise\n",
    "        rationale_text = \" \".join(top_k_sents)\n",
    "        y_pred.append(1 if evidence_text in rationale_text or rationale_text in evidence_text else 0)\n",
    "\n",
    "    # Compute metrics\n",
    "    precision = precision_score(y_true, y_pred)\n",
    "    recall = recall_score(y_true, y_pred)\n",
    "    f1 = f1_score(y_true, y_pred)\n",
    "\n",
    "    print(f\"Precision: {precision:.2f}\")\n",
    "    print(f\"Recall: {recall:.2f}\")\n",
    "    print(f\"F1-score: {f1:.2f}\")\n",
    "\n",
    "\n"
   ]
  },
  {
   "cell_type": "code",
   "execution_count": 9,
   "id": "9506d262",
   "metadata": {},
   "outputs": [
    {
     "name": "stdout",
     "output_type": "stream",
     "text": [
      "Precision: 1.00\n",
      "Recall: 0.36\n",
      "F1-score: 0.53\n"
     ]
    }
   ],
   "source": [
    "# Run evaluation\n",
    "evaluate_rationale_precision_recall(test_data)"
   ]
  }
 ],
 "metadata": {
  "kernelspec": {
   "display_name": "Python 3",
   "language": "python",
   "name": "python3"
  },
  "language_info": {
   "codemirror_mode": {
    "name": "ipython",
    "version": 3
   },
   "file_extension": ".py",
   "mimetype": "text/x-python",
   "name": "python",
   "nbconvert_exporter": "python",
   "pygments_lexer": "ipython3",
   "version": "3.12.8"
  }
 },
 "nbformat": 4,
 "nbformat_minor": 5
}
